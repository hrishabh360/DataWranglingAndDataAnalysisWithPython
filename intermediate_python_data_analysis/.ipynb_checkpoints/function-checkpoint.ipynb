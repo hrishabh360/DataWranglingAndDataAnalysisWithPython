{
 "cells": [
  {
   "cell_type": "code",
   "execution_count": 1,
   "id": "7e8216ce-f43d-4789-9e61-5a2daecc1b37",
   "metadata": {},
   "outputs": [],
   "source": [
    "l = [\"cat\", \"dog\"]"
   ]
  },
  {
   "cell_type": "code",
   "execution_count": 2,
   "id": "eac8cc64-6693-45f9-8037-2a5c9e904cf5",
   "metadata": {},
   "outputs": [
    {
     "data": {
      "text/plain": [
       "\u001b[0;31mSignature:\u001b[0m \u001b[0ml\u001b[0m\u001b[0;34m.\u001b[0m\u001b[0mappend\u001b[0m\u001b[0;34m(\u001b[0m\u001b[0mobject\u001b[0m\u001b[0;34m,\u001b[0m \u001b[0;34m/\u001b[0m\u001b[0;34m)\u001b[0m\u001b[0;34m\u001b[0m\u001b[0;34m\u001b[0m\u001b[0m\n",
       "\u001b[0;31mDocstring:\u001b[0m Append object to the end of the list.\n",
       "\u001b[0;31mType:\u001b[0m      builtin_function_or_method"
      ]
     },
     "metadata": {},
     "output_type": "display_data"
    }
   ],
   "source": [
    "# l. now pressing shift will provide options available to perform some actions with the particulat datatype\n",
    "l.append? # this will provide syntax"
   ]
  },
  {
   "cell_type": "code",
   "execution_count": 5,
   "id": "1c279683-4e91-465c-8c8e-bbd2fa5b13e7",
   "metadata": {},
   "outputs": [],
   "source": [
    "a = [1, 2, 3, 4]\n",
    "b = [5, 6 ,7, 8]"
   ]
  },
  {
   "cell_type": "code",
   "execution_count": 4,
   "id": "7186e295-c8cd-41dd-b947-f3066cbbf80c",
   "metadata": {},
   "outputs": [],
   "source": [
    "c = []\n",
    "for a_elm, b_elm in zip(a, b): # zip will loop simultaneously between multiple lists\n",
    "    c.append(a_elm + b_elm)"
   ]
  },
  {
   "cell_type": "code",
   "execution_count": 5,
   "id": "0952f945-8630-4518-8992-218c4aad0291",
   "metadata": {},
   "outputs": [
    {
     "name": "stdout",
     "output_type": "stream",
     "text": [
      "[6, 8, 10, 12]\n"
     ]
    }
   ],
   "source": [
    "print(c)"
   ]
  },
  {
   "cell_type": "code",
   "execution_count": 8,
   "id": "18ffd206-aa44-437c-b533-201fe79e2b8f",
   "metadata": {},
   "outputs": [],
   "source": [
    "def add_arrays(x, y):\n",
    "    z = []\n",
    "    for x_elm, y_elm in zip(x, y):\n",
    "        z.append(x_elm + y_elm)\n",
    "    return z\n",
    "\n"
   ]
  },
  {
   "cell_type": "code",
   "execution_count": 9,
   "id": "b744eb70-4a06-4a74-afa8-f5e28fa8e3ca",
   "metadata": {},
   "outputs": [
    {
     "data": {
      "text/plain": [
       "[6, 8, 10, 12]"
      ]
     },
     "execution_count": 9,
     "metadata": {},
     "output_type": "execute_result"
    }
   ],
   "source": [
    "add_arrays(a, b)"
   ]
  },
  {
   "cell_type": "code",
   "execution_count": 1,
   "id": "81bd363b-63f8-4e95-affc-bdadbd10da1c",
   "metadata": {},
   "outputs": [],
   "source": [
    "import arrays"
   ]
  },
  {
   "cell_type": "code",
   "execution_count": 7,
   "id": "b8ee75df-66a6-4f9f-a24b-1561d414cde7",
   "metadata": {},
   "outputs": [
    {
     "data": {
      "text/plain": [
       "[6, 8, 10, 12]"
      ]
     },
     "execution_count": 7,
     "metadata": {},
     "output_type": "execute_result"
    }
   ],
   "source": [
    "arrays.add_arrays(a, b)"
   ]
  },
  {
   "cell_type": "code",
   "execution_count": 1,
   "id": "7f1d5116-c5df-47e1-a9aa-65946d55f41f",
   "metadata": {},
   "outputs": [],
   "source": [
    "import arrays"
   ]
  },
  {
   "cell_type": "code",
   "execution_count": 2,
   "id": "3bec30f5-ba2c-42f4-bcad-09df797cfee5",
   "metadata": {},
   "outputs": [],
   "source": [
    "a = [1, 2, 3, 4]\n",
    "b = [5, 6, 7, 8]"
   ]
  },
  {
   "cell_type": "code",
   "execution_count": 3,
   "id": "94ad32c9-70f1-4f9a-9862-5fad1466b25d",
   "metadata": {},
   "outputs": [
    {
     "data": {
      "text/plain": [
       "[6, 8, 10, 12]"
      ]
     },
     "execution_count": 3,
     "metadata": {},
     "output_type": "execute_result"
    }
   ],
   "source": [
    "arrays.add_arrays(a, b)"
   ]
  },
  {
   "cell_type": "code",
   "execution_count": 4,
   "id": "01c5dd0d-f13b-4e84-8fca-d7c88917207b",
   "metadata": {},
   "outputs": [
    {
     "name": "stdout",
     "output_type": "stream",
     "text": [
      "arrays.py  encode_decode.py  function.ipynb  \u001b[0m\u001b[01;34m__pycache__\u001b[0m/\n"
     ]
    }
   ],
   "source": [
    "%ls"
   ]
  },
  {
   "cell_type": "code",
   "execution_count": 5,
   "id": "05bf42b9-cadf-4ff3-888e-308067f53dfc",
   "metadata": {},
   "outputs": [
    {
     "data": {
      "text/plain": [
       "'/home/hrishabh/HrishabhPersonal/DataWranglingAndDataAnalysisWithPython/intermediate_python_data_analysis'"
      ]
     },
     "execution_count": 5,
     "metadata": {},
     "output_type": "execute_result"
    }
   ],
   "source": [
    "%pwd"
   ]
  },
  {
   "cell_type": "code",
   "execution_count": 8,
   "id": "41177eb5-e239-4522-8f0d-692e9745879b",
   "metadata": {},
   "outputs": [],
   "source": [
    "a = [1, 2, 3, 4]\n",
    "b = [5, 6, 7, 8, 9]"
   ]
  },
  {
   "cell_type": "code",
   "execution_count": 10,
   "id": "ed12c8d8-7aca-4ee2-813f-48727711063d",
   "metadata": {},
   "outputs": [
    {
     "data": {
      "text/plain": [
       "[6, 8, 10, 12]"
      ]
     },
     "execution_count": 10,
     "metadata": {},
     "output_type": "execute_result"
    }
   ],
   "source": [
    "arrays.add_arrays(a, b)"
   ]
  },
  {
   "cell_type": "code",
   "execution_count": 1,
   "id": "ae5fc687-4178-44b6-92db-2e64795a613d",
   "metadata": {},
   "outputs": [],
   "source": [
    "import morse\n"
   ]
  },
  {
   "cell_type": "code",
   "execution_count": 3,
   "id": "0a9ae5cc-0be1-4ff8-bc2b-e7ca6f98129a",
   "metadata": {},
   "outputs": [
    {
     "data": {
      "text/plain": [
       "'... --- ...'"
      ]
     },
     "execution_count": 3,
     "metadata": {},
     "output_type": "execute_result"
    }
   ],
   "source": [
    "morse.encode(\"sos\")"
   ]
  },
  {
   "cell_type": "code",
   "execution_count": 5,
   "id": "16bc229e-e548-4104-8e74-5a4398256412",
   "metadata": {},
   "outputs": [],
   "source": [
    "# String formatting\n",
    "\n",
    "my_dict = {\"answer\": 42, \"pi\": 3.14159}"
   ]
  },
  {
   "cell_type": "code",
   "execution_count": 7,
   "id": "5d2e52fb-be03-49c4-88e6-926ea0655943",
   "metadata": {},
   "outputs": [
    {
     "name": "stdout",
     "output_type": "stream",
     "text": [
      "The answer is 42 and pi is 3.14159\n"
     ]
    }
   ],
   "source": [
    "print(f\"The answer is {my_dict['answer']} and pi is {my_dict['pi']}\")"
   ]
  },
  {
   "cell_type": "code",
   "execution_count": null,
   "id": "6ef2cbd4-3c81-4a0f-a537-a8dd5cdf7a61",
   "metadata": {},
   "outputs": [],
   "source": []
  }
 ],
 "metadata": {
  "kernelspec": {
   "display_name": "Python 3 (ipykernel)",
   "language": "python",
   "name": "python3"
  },
  "language_info": {
   "codemirror_mode": {
    "name": "ipython",
    "version": 3
   },
   "file_extension": ".py",
   "mimetype": "text/x-python",
   "name": "python",
   "nbconvert_exporter": "python",
   "pygments_lexer": "ipython3",
   "version": "3.11.6"
  }
 },
 "nbformat": 4,
 "nbformat_minor": 5
}
