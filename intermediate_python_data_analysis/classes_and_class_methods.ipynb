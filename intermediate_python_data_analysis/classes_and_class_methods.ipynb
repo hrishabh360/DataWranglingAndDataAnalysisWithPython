{
 "cells": [
  {
   "cell_type": "code",
   "execution_count": 1,
   "id": "c66cbf22-966e-47a0-a8a8-b0f4928f4774",
   "metadata": {},
   "outputs": [],
   "source": [
    "our_dog = {\"name\": \"Bruno\", \"colour\": \"brown\"}"
   ]
  },
  {
   "cell_type": "code",
   "execution_count": 3,
   "id": "7cbfa072-ca9e-4bff-8203-963082120afc",
   "metadata": {},
   "outputs": [
    {
     "data": {
      "text/plain": [
       "'Bruno'"
      ]
     },
     "execution_count": 3,
     "metadata": {},
     "output_type": "execute_result"
    }
   ],
   "source": [
    "our_dog[\"name\"]"
   ]
  },
  {
   "cell_type": "code",
   "execution_count": 6,
   "id": "790b25c8-1fe0-4498-a79d-cf8f525372e7",
   "metadata": {},
   "outputs": [],
   "source": [
    "def describe(dog):\n",
    "    return f\"{dog['name']} is {dog['colour']}\""
   ]
  },
  {
   "cell_type": "code",
   "execution_count": 7,
   "id": "5d829230-cdb6-494f-8f08-be8224b808a2",
   "metadata": {},
   "outputs": [
    {
     "data": {
      "text/plain": [
       "'Bruno is brown'"
      ]
     },
     "execution_count": 7,
     "metadata": {},
     "output_type": "execute_result"
    }
   ],
   "source": [
    "describe(our_dog)"
   ]
  },
  {
   "cell_type": "code",
   "execution_count": 10,
   "id": "b032ceba-42d4-4d37-8699-93d3a99ade89",
   "metadata": {},
   "outputs": [
    {
     "name": "stdout",
     "output_type": "stream",
     "text": [
      "[5, 6]\n",
      "[6, 5]\n"
     ]
    }
   ],
   "source": [
    "# Two sum problem\n",
    "list = [1,2,3,4,5,6]\n",
    "\n",
    "target = 11\n",
    "\n",
    "for data in list:\n",
    "    value = target - data\n",
    "    if value in list:\n",
    "        x = []\n",
    "        x.append(data)\n",
    "        x.append(value)\n",
    "        print(x)\n",
    "\n",
    "    "
   ]
  },
  {
   "cell_type": "code",
   "execution_count": 18,
   "id": "e0569378-f819-44e8-b452-169da554ae2f",
   "metadata": {},
   "outputs": [
    {
     "name": "stdout",
     "output_type": "stream",
     "text": [
      "True\n"
     ]
    }
   ],
   "source": [
    "#palindrome\n",
    "\n",
    "o_num = 121\n",
    "\n",
    "t_num = 121\n",
    "r_digit = 0\n",
    "while t_num > 0:\n",
    "    l_digit = t_num % 10\n",
    "    r_digit = (r_digit * 10) + l_digit\n",
    "    # print(\"l_digit\", l_digit)\n",
    "    t_num = t_num // 10\n",
    "    # print(\"t_num\", t_num)\n",
    "print(o_num == r_digit)\n"
   ]
  },
  {
   "cell_type": "code",
   "execution_count": 28,
   "id": "aee07694-2ef9-454d-9a35-d849fa8ae0ab",
   "metadata": {},
   "outputs": [],
   "source": [
    "#Class\n",
    "\n",
    "class Dog: #naming convention of class in Python: starts with uppercase\n",
    "    def __init__(self, name, colour):\n",
    "        self.name = name\n",
    "        self.colour = colour "
   ]
  },
  {
   "cell_type": "code",
   "execution_count": 35,
   "id": "3f0bb919-982e-4487-829d-dd8c5dc5ec4e",
   "metadata": {},
   "outputs": [],
   "source": [
    "our_dog = Dog(\"Bruno\", \"Brown\") #instance of class Dog"
   ]
  },
  {
   "cell_type": "code",
   "execution_count": 22,
   "id": "036f1a7e-01b5-44ab-80ef-ed5acde5427a",
   "metadata": {},
   "outputs": [
    {
     "data": {
      "text/plain": [
       "'Bruno'"
      ]
     },
     "execution_count": 22,
     "metadata": {},
     "output_type": "execute_result"
    }
   ],
   "source": [
    "our_dog.name "
   ]
  },
  {
   "cell_type": "code",
   "execution_count": 23,
   "id": "2f02e375-277f-41ac-bccb-cb159ab1c665",
   "metadata": {},
   "outputs": [
    {
     "data": {
      "text/plain": [
       "'Brown'"
      ]
     },
     "execution_count": 23,
     "metadata": {},
     "output_type": "execute_result"
    }
   ],
   "source": [
    "our_dog.colour"
   ]
  },
  {
   "cell_type": "code",
   "execution_count": 24,
   "id": "258efb1a-967c-4b5c-8c30-605d12e2325e",
   "metadata": {},
   "outputs": [],
   "source": [
    "def describe(dog):\n",
    "    return f\"{dog.name} is {dog.colour}\""
   ]
  },
  {
   "cell_type": "code",
   "execution_count": 25,
   "id": "22f65da0-d799-421f-99ab-8c23c29f35aa",
   "metadata": {},
   "outputs": [
    {
     "data": {
      "text/plain": [
       "'Bruno is Brown'"
      ]
     },
     "execution_count": 25,
     "metadata": {},
     "output_type": "execute_result"
    }
   ],
   "source": [
    "describe(our_dog)"
   ]
  },
  {
   "cell_type": "code",
   "execution_count": 26,
   "id": "83940c3a-1bf2-4aac-b883-da1428f510eb",
   "metadata": {},
   "outputs": [],
   "source": [
    "other_dog = Dog(\"Achillies\", \"blue\")"
   ]
  },
  {
   "cell_type": "code",
   "execution_count": 29,
   "id": "1c200247-0e25-42a2-8d9f-01465640887f",
   "metadata": {},
   "outputs": [
    {
     "data": {
      "text/plain": [
       "'Achillies is blue'"
      ]
     },
     "execution_count": 29,
     "metadata": {},
     "output_type": "execute_result"
    }
   ],
   "source": [
    "describe(other_dog)"
   ]
  },
  {
   "cell_type": "code",
   "execution_count": 30,
   "id": "add2c42f-d09b-48da-b7f8-a7b34952442a",
   "metadata": {},
   "outputs": [
    {
     "ename": "AttributeError",
     "evalue": "'str' object has no attribute 'name'",
     "output_type": "error",
     "traceback": [
      "\u001b[0;31m---------------------------------------------------------------------------\u001b[0m",
      "\u001b[0;31mAttributeError\u001b[0m                            Traceback (most recent call last)",
      "Cell \u001b[0;32mIn[30], line 1\u001b[0m\n\u001b[0;32m----> 1\u001b[0m \u001b[43mdescribe\u001b[49m\u001b[43m(\u001b[49m\u001b[38;5;124;43m\"\u001b[39;49m\u001b[38;5;124;43mhello\u001b[39;49m\u001b[38;5;124;43m\"\u001b[39;49m\u001b[43m)\u001b[49m\n",
      "Cell \u001b[0;32mIn[24], line 2\u001b[0m, in \u001b[0;36mdescribe\u001b[0;34m(dog)\u001b[0m\n\u001b[1;32m      1\u001b[0m \u001b[38;5;28;01mdef\u001b[39;00m \u001b[38;5;21mdescribe\u001b[39m(dog):\n\u001b[0;32m----> 2\u001b[0m     \u001b[38;5;28;01mreturn\u001b[39;00m \u001b[38;5;124mf\u001b[39m\u001b[38;5;124m\"\u001b[39m\u001b[38;5;132;01m{\u001b[39;00m\u001b[43mdog\u001b[49m\u001b[38;5;241;43m.\u001b[39;49m\u001b[43mname\u001b[49m\u001b[38;5;132;01m}\u001b[39;00m\u001b[38;5;124m is \u001b[39m\u001b[38;5;132;01m{\u001b[39;00mdog\u001b[38;5;241m.\u001b[39mcolour\u001b[38;5;132;01m}\u001b[39;00m\u001b[38;5;124m\"\u001b[39m\n",
      "\u001b[0;31mAttributeError\u001b[0m: 'str' object has no attribute 'name'"
     ]
    }
   ],
   "source": [
    "describe(\"hello\")"
   ]
  },
  {
   "cell_type": "code",
   "execution_count": 33,
   "id": "d1148b64-c914-4048-921f-d65e6180ee9e",
   "metadata": {},
   "outputs": [],
   "source": [
    "class Dog: #naming convention of class in Python: starts with uppercase\n",
    "    def __init__(self, name, colour):\n",
    "        self.name = name\n",
    "        self.colour = colour \n",
    "\n",
    "    def describe(self):\n",
    "        return f\"{self.name} is {self.colour}\""
   ]
  },
  {
   "cell_type": "code",
   "execution_count": 36,
   "id": "ad51c0f8-da33-49d4-91b8-cd355d7afec9",
   "metadata": {},
   "outputs": [
    {
     "data": {
      "text/plain": [
       "'Bruno is Brown'"
      ]
     },
     "execution_count": 36,
     "metadata": {},
     "output_type": "execute_result"
    }
   ],
   "source": [
    "our_dog.describe()"
   ]
  },
  {
   "cell_type": "code",
   "execution_count": 1,
   "id": "05995783-862b-47b8-a753-acff380a6a6a",
   "metadata": {},
   "outputs": [],
   "source": [
    "class Dog: #naming convention of class in Python: starts with uppercase\n",
    "    def __init__(self, name, colour):\n",
    "        self.name = name\n",
    "        self.colour = colour\n",
    "        self.energy = 1\n",
    "\n",
    "    def describe(self):\n",
    "        return f\"{self.name} is {self.colour}\""
   ]
  },
  {
   "cell_type": "code",
   "execution_count": 2,
   "id": "93c1fc8e-95db-42e4-80f9-ea05c1147ef6",
   "metadata": {},
   "outputs": [],
   "source": [
    "our_dog = Dog(\"Corona\", \"gold\")"
   ]
  },
  {
   "cell_type": "code",
   "execution_count": 3,
   "id": "6dcd0838-8ea3-43dc-80a0-23c0d3f9cd15",
   "metadata": {},
   "outputs": [
    {
     "data": {
      "text/plain": [
       "1"
      ]
     },
     "execution_count": 3,
     "metadata": {},
     "output_type": "execute_result"
    }
   ],
   "source": [
    "our_dog.energy"
   ]
  },
  {
   "cell_type": "code",
   "execution_count": 4,
   "id": "b4e034d8-4c74-438a-86e3-f58d6a1aa895",
   "metadata": {},
   "outputs": [],
   "source": [
    "our_dog.energy = 100"
   ]
  },
  {
   "cell_type": "code",
   "execution_count": 5,
   "id": "362d8781-34a8-42dc-891b-1c1775babf32",
   "metadata": {},
   "outputs": [
    {
     "data": {
      "text/plain": [
       "100"
      ]
     },
     "execution_count": 5,
     "metadata": {},
     "output_type": "execute_result"
    }
   ],
   "source": [
    "our_dog.energy"
   ]
  },
  {
   "cell_type": "code",
   "execution_count": 6,
   "id": "06575ebe-7e41-408e-aa87-91827934a998",
   "metadata": {},
   "outputs": [],
   "source": [
    "class Dog: #naming convention of class in Python: starts with uppercase\n",
    "    def __init__(self, name, colour):\n",
    "        self.name = name\n",
    "        self.colour = colour\n",
    "        self.energy = 1\n",
    "\n",
    "    def describe(self):\n",
    "        return f\"{self.name} is {self.colour}\"\n",
    "\n",
    "    def exercise(self):\n",
    "        print(f\"You take {self.name} for a walk\")\n",
    "        self.energy -= 1"
   ]
  },
  {
   "cell_type": "code",
   "execution_count": 7,
   "id": "3b6b5a9d-8ac8-4705-a268-efd3809d149c",
   "metadata": {},
   "outputs": [],
   "source": [
    "our_dog = Dog(\"Corona\", \"gold\")"
   ]
  },
  {
   "cell_type": "code",
   "execution_count": 8,
   "id": "4d9d5039-b232-49c3-8d69-24c961c9b47b",
   "metadata": {},
   "outputs": [
    {
     "data": {
      "text/plain": [
       "1"
      ]
     },
     "execution_count": 8,
     "metadata": {},
     "output_type": "execute_result"
    }
   ],
   "source": [
    "our_dog.energy"
   ]
  },
  {
   "cell_type": "code",
   "execution_count": 10,
   "id": "ebbe94bb-334f-4d59-b909-9a71e8f9160a",
   "metadata": {},
   "outputs": [
    {
     "name": "stdout",
     "output_type": "stream",
     "text": [
      "You take Corona for a walk\n"
     ]
    }
   ],
   "source": [
    "our_dog.exercise()"
   ]
  },
  {
   "cell_type": "code",
   "execution_count": 11,
   "id": "03cd6abc-1bdc-4c8b-b021-4f5a1bea4b61",
   "metadata": {},
   "outputs": [
    {
     "data": {
      "text/plain": [
       "0"
      ]
     },
     "execution_count": 11,
     "metadata": {},
     "output_type": "execute_result"
    }
   ],
   "source": [
    "our_dog.energy"
   ]
  },
  {
   "cell_type": "code",
   "execution_count": 12,
   "id": "56c4c2c1-3599-4918-9dbd-d6ad21ae7aba",
   "metadata": {},
   "outputs": [],
   "source": [
    "other_dog = Dog(\"Bruno\", \"Brown\")"
   ]
  },
  {
   "cell_type": "code",
   "execution_count": 14,
   "id": "0b17cd42-9776-40a2-9687-4763493696ad",
   "metadata": {},
   "outputs": [
    {
     "data": {
      "text/plain": [
       "1"
      ]
     },
     "execution_count": 14,
     "metadata": {},
     "output_type": "execute_result"
    }
   ],
   "source": [
    "other_dog.energy"
   ]
  },
  {
   "cell_type": "code",
   "execution_count": 78,
   "id": "190ef544-86ee-4ffe-8550-cf0621bfce41",
   "metadata": {},
   "outputs": [],
   "source": [
    "class Dog: #naming convention of class in Python: starts with uppercase\n",
    "    def __init__(self, name, colour):\n",
    "        self.name = name\n",
    "        self.colour = colour\n",
    "        self.energy = 1\n",
    "\n",
    "    def describe(self):\n",
    "        return f\"{self.name} is {self.colour}\"\n",
    "\n",
    "    def exercise(self):\n",
    "        if self.energy >= 1:\n",
    "            print(f\"You take {self.name} for a walk\")\n",
    "            self.energy -= 1\n",
    "        else: \n",
    "            raise RuntimeError(f\"{self.name} is tired. It doesn't want a walk.\")\n",
    "            \n",
    "    def feed(self):\n",
    "        print(f\"You fed {self.name} some Biscuits.\")\n",
    "        self.energy += 1"
   ]
  },
  {
   "cell_type": "code",
   "execution_count": 81,
   "id": "513a7ec2-da61-4747-ba43-3fc52add6843",
   "metadata": {},
   "outputs": [],
   "source": [
    "other_dog = Dog(\"Bruno\", \"Brown\")"
   ]
  },
  {
   "cell_type": "code",
   "execution_count": 89,
   "id": "7e644205-3f91-46c3-88e7-3d7245d8a421",
   "metadata": {},
   "outputs": [
    {
     "name": "stdout",
     "output_type": "stream",
     "text": [
      "You fed Bruno some Biscuits.\n"
     ]
    }
   ],
   "source": [
    "other_dog.feed()"
   ]
  },
  {
   "cell_type": "code",
   "execution_count": 90,
   "id": "04b1de2b-3ee8-4ee6-be84-c5af96d90887",
   "metadata": {},
   "outputs": [
    {
     "data": {
      "text/plain": [
       "2"
      ]
     },
     "execution_count": 90,
     "metadata": {},
     "output_type": "execute_result"
    }
   ],
   "source": [
    "other_dog.energy"
   ]
  },
  {
   "cell_type": "code",
   "execution_count": 12,
   "id": "069aeb6d-b334-439e-b24e-1f5977540d6d",
   "metadata": {},
   "outputs": [
    {
     "data": {
      "text/plain": [
       "'do'"
      ]
     },
     "execution_count": 12,
     "metadata": {},
     "output_type": "execute_result"
    }
   ],
   "source": [
    "\n",
    "# Longest Common Prefix\n",
    "\n",
    "def longestCommonPrefix(strs):\n",
    "        min_len = min(len(s) for s in strs)\n",
    "        for i in range(min_len):\n",
    "            first_item = strs[0]\n",
    "            \n",
    "            if len(set(s[i] for s in strs)) > 1:\n",
    "            # If not, return the prefix up to this index\n",
    "                return strs[0][:i]\n",
    "        return strs[0][:min_len]\n",
    "\n",
    "strs = [\"dog\",\"doasd\",\"dodil\"]\n",
    "longestCommonPrefix(strs)    "
   ]
  },
  {
   "cell_type": "code",
   "execution_count": 91,
   "id": "09a04317-21aa-4597-907e-1c3ecaecc182",
   "metadata": {},
   "outputs": [
    {
     "name": "stdout",
     "output_type": "stream",
     "text": [
      "You take Bruno for a walk\n"
     ]
    }
   ],
   "source": [
    "other_dog.exercise()"
   ]
  },
  {
   "cell_type": "code",
   "execution_count": 72,
   "id": "e3b4b7b7-6cb7-408f-a6d6-e5688381ca3f",
   "metadata": {},
   "outputs": [
    {
     "data": {
      "text/plain": [
       "1"
      ]
     },
     "execution_count": 72,
     "metadata": {},
     "output_type": "execute_result"
    }
   ],
   "source": [
    "other_dog.energy"
   ]
  },
  {
   "cell_type": "code",
   "execution_count": 92,
   "id": "0f842a07-8543-4390-b0ed-f0776cae8895",
   "metadata": {},
   "outputs": [
    {
     "name": "stdout",
     "output_type": "stream",
     "text": [
      "You take Bruno for a walk\n"
     ]
    },
    {
     "ename": "RuntimeError",
     "evalue": "Bruno is tired. It doesn't want a walk.",
     "output_type": "error",
     "traceback": [
      "\u001b[0;31m---------------------------------------------------------------------------\u001b[0m",
      "\u001b[0;31mRuntimeError\u001b[0m                              Traceback (most recent call last)",
      "Cell \u001b[0;32mIn[92], line 2\u001b[0m\n\u001b[1;32m      1\u001b[0m other_dog\u001b[38;5;241m.\u001b[39mexercise()\n\u001b[0;32m----> 2\u001b[0m \u001b[43mother_dog\u001b[49m\u001b[38;5;241;43m.\u001b[39;49m\u001b[43mexercise\u001b[49m\u001b[43m(\u001b[49m\u001b[43m)\u001b[49m\n\u001b[1;32m      3\u001b[0m other_dog\u001b[38;5;241m.\u001b[39mexercise()\n\u001b[1;32m      4\u001b[0m other_dog\u001b[38;5;241m.\u001b[39menergy\n",
      "Cell \u001b[0;32mIn[78], line 15\u001b[0m, in \u001b[0;36mDog.exercise\u001b[0;34m(self)\u001b[0m\n\u001b[1;32m     13\u001b[0m     \u001b[38;5;28mself\u001b[39m\u001b[38;5;241m.\u001b[39menergy \u001b[38;5;241m-\u001b[39m\u001b[38;5;241m=\u001b[39m \u001b[38;5;241m1\u001b[39m\n\u001b[1;32m     14\u001b[0m \u001b[38;5;28;01melse\u001b[39;00m: \n\u001b[0;32m---> 15\u001b[0m     \u001b[38;5;28;01mraise\u001b[39;00m \u001b[38;5;167;01mRuntimeError\u001b[39;00m(\u001b[38;5;124mf\u001b[39m\u001b[38;5;124m\"\u001b[39m\u001b[38;5;132;01m{\u001b[39;00m\u001b[38;5;28mself\u001b[39m\u001b[38;5;241m.\u001b[39mname\u001b[38;5;132;01m}\u001b[39;00m\u001b[38;5;124m is tired. It doesn\u001b[39m\u001b[38;5;124m'\u001b[39m\u001b[38;5;124mt want a walk.\u001b[39m\u001b[38;5;124m\"\u001b[39m)\n",
      "\u001b[0;31mRuntimeError\u001b[0m: Bruno is tired. It doesn't want a walk."
     ]
    }
   ],
   "source": [
    "other_dog.exercise()\n",
    "other_dog.exercise()\n",
    "other_dog.exercise()\n",
    "other_dog.energy"
   ]
  },
  {
   "cell_type": "code",
   "execution_count": 94,
   "id": "ebf8d910-acac-49d1-9892-474b4f87213a",
   "metadata": {},
   "outputs": [
    {
     "name": "stdout",
     "output_type": "stream",
     "text": [
      "Something went wrong while trying to exercise the dog: Bruno is tired. It doesn't want a walk.\n"
     ]
    }
   ],
   "source": [
    "try:\n",
    "    other_dog.exercise()\n",
    "    other_dog.exercise()\n",
    "    other_dog.exercise()\n",
    "    other_dog.energy\n",
    "except RuntimeError as e:\n",
    "    print(f\"Something went wrong while trying to exercise the dog: {e}\")\n",
    "    "
   ]
  },
  {
   "cell_type": "code",
   "execution_count": 95,
   "id": "3411a78b-3896-4077-b21a-f4df272ec4fd",
   "metadata": {},
   "outputs": [
    {
     "name": "stdout",
     "output_type": "stream",
     "text": [
      "You fed Bruno some Biscuits.\n",
      "You take Bruno for a walk\n"
     ]
    }
   ],
   "source": [
    "try:\n",
    "    other_dog.exercise()\n",
    "    other_dog.exercise()\n",
    "    other_dog.exercise()\n",
    "    other_dog.energy\n",
    "except RuntimeError as e:\n",
    "    other_dog.feed()\n",
    "    other_dog.exercise()"
   ]
  },
  {
   "cell_type": "code",
   "execution_count": 96,
   "id": "a68f2be8-e470-4b3b-b768-0b76df4ca9eb",
   "metadata": {},
   "outputs": [
    {
     "data": {
      "text/plain": [
       "0"
      ]
     },
     "execution_count": 96,
     "metadata": {},
     "output_type": "execute_result"
    }
   ],
   "source": [
    "other_dog.energy"
   ]
  },
  {
   "cell_type": "code",
   "execution_count": null,
   "id": "f69a5764-404d-4829-a325-365a8f39c426",
   "metadata": {},
   "outputs": [],
   "source": []
  }
 ],
 "metadata": {
  "kernelspec": {
   "display_name": "Python 3 (ipykernel)",
   "language": "python",
   "name": "python3"
  },
  "language_info": {
   "codemirror_mode": {
    "name": "ipython",
    "version": 3
   },
   "file_extension": ".py",
   "mimetype": "text/x-python",
   "name": "python",
   "nbconvert_exporter": "python",
   "pygments_lexer": "ipython3",
   "version": "3.11.6"
  }
 },
 "nbformat": 4,
 "nbformat_minor": 5
}
