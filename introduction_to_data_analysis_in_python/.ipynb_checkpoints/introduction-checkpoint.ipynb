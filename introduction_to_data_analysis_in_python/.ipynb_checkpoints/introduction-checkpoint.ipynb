{
 "cells": [
  {
   "cell_type": "code",
   "execution_count": 6,
   "id": "d7a77900-9ff6-44c2-981c-fbe884973bd5",
   "metadata": {},
   "outputs": [
    {
     "name": "stdout",
     "output_type": "stream",
     "text": [
      "Hello\n"
     ]
    }
   ],
   "source": [
    "print(\"Hello\")"
   ]
  },
  {
   "cell_type": "code",
   "execution_count": 7,
   "id": "6178b187-cfae-476b-9322-08d559c91b3d",
   "metadata": {},
   "outputs": [
    {
     "data": {
      "text/plain": [
       "12"
      ]
     },
     "execution_count": 7,
     "metadata": {},
     "output_type": "execute_result"
    }
   ],
   "source": [
    "a = 5\n",
    "b = 7\n",
    "a + b"
   ]
  },
  {
   "cell_type": "code",
   "execution_count": 2,
   "id": "cd0eb25e-f78c-4aeb-9f2c-12e3e316c280",
   "metadata": {},
   "outputs": [
    {
     "data": {
      "text/html": [
       "<div>\n",
       "<style scoped>\n",
       "    .dataframe tbody tr th:only-of-type {\n",
       "        vertical-align: middle;\n",
       "    }\n",
       "\n",
       "    .dataframe tbody tr th {\n",
       "        vertical-align: top;\n",
       "    }\n",
       "\n",
       "    .dataframe thead th {\n",
       "        text-align: right;\n",
       "    }\n",
       "</style>\n",
       "<table border=\"1\" class=\"dataframe\">\n",
       "  <thead>\n",
       "    <tr style=\"text-align: right;\">\n",
       "      <th></th>\n",
       "      <th>0</th>\n",
       "    </tr>\n",
       "  </thead>\n",
       "  <tbody>\n",
       "    <tr>\n",
       "      <th>5</th>\n",
       "      <td>1</td>\n",
       "    </tr>\n",
       "    <tr>\n",
       "      <th>6</th>\n",
       "      <td>2</td>\n",
       "    </tr>\n",
       "    <tr>\n",
       "      <th>6</th>\n",
       "      <td>3</td>\n",
       "    </tr>\n",
       "  </tbody>\n",
       "</table>\n",
       "</div>"
      ],
      "text/plain": [
       "   0\n",
       "5  1\n",
       "6  2\n",
       "6  3"
      ]
     },
     "execution_count": 2,
     "metadata": {},
     "output_type": "execute_result"
    }
   ],
   "source": [
    "import pandas as pd\n",
    "from pandas import DataFrame\n",
    "test = DataFrame([1,2,3], [5,6,6])\n",
    "test"
   ]
  },
  {
   "cell_type": "markdown",
   "id": "8de2c558-b7ab-46fe-96a5-5fbdbb9d5ee5",
   "metadata": {
    "tags": []
   },
   "source": [
    "## Some Python libraries have special integration with Jupyter notebooks and so can display their output directly into the page. \n",
    "## For example pandas will format tables of data nicely and matplotlib will embed graphs directly:"
   ]
  },
  {
   "cell_type": "code",
   "execution_count": 4,
   "id": "6512d84e-dec0-40de-b966-0ae680fee2b2",
   "metadata": {},
   "outputs": [
    {
     "data": {
      "text/plain": [
       "<Axes: >"
      ]
     },
     "execution_count": 4,
     "metadata": {},
     "output_type": "execute_result"
    },
    {
     "data": {
      "image/png": "[encoded data removed]",
      "text/plain": [
       "<Figure size 640x480 with 1 Axes>"
      ]
     },
     "metadata": {},
     "output_type": "display_data"
    }
   ],
   "source": [
    "test.plot()"
   ]
  },
  {
   "cell_type": "markdown",
   "id": "fb51121a-d0ea-4e87-9622-d8b1fe880e8f",
   "metadata": {},
   "source": [
    "# Cost Calculator"
   ]
  },
  {
   "cell_type": "code",
   "execution_count": 7,
   "id": "45a3c3a2-0d22-4673-8c52-9e05464d3cc2",
   "metadata": {
    "tags": []
   },
   "outputs": [],
   "source": [
    "prices = {\n",
    "    \"apple\": 0.40,\n",
    "    \"banana\": 0.50,\n",
    "}"
   ]
  },
  {
   "cell_type": "code",
   "execution_count": 8,
   "id": "9e9ff2a5-56c0-4c0e-b9f1-dbfabb56a4f9",
   "metadata": {
    "tags": []
   },
   "outputs": [],
   "source": [
    "\n",
    "my_basket = {\n",
    "    \"apple\": 1,\n",
    "    \"banana\": 6,\n",
    "}"
   ]
  },
  {
   "cell_type": "code",
   "execution_count": 9,
   "id": "29f08bf1-a8b8-47a2-a992-5b675cb5531a",
   "metadata": {
    "tags": []
   },
   "outputs": [
    {
     "name": "stdout",
     "output_type": "stream",
     "text": [
      "I owe the grocer £3.40\n"
     ]
    }
   ],
   "source": [
    "total_grocery_bill = 0\n",
    "for fruit, count in my_basket.items():\n",
    "    total_grocery_bill += prices[fruit] * count\n",
    "\n",
    "print(f\"I owe the grocer £{total_grocery_bill:.2f}\")"
   ]
  },
  {
   "cell_type": "code",
   "execution_count": null,
   "id": "c280fda3-37b7-4c31-bf34-f037ec8ff44e",
   "metadata": {},
   "outputs": [],
   "source": []
  }
 ],
 "metadata": {
  "kernelspec": {
   "display_name": "Python 3 (ipykernel)",
   "language": "python",
   "name": "python3"
  },
  "language_info": {
   "codemirror_mode": {
    "name": "ipython",
    "version": 3
   },
   "file_extension": ".py",
   "mimetype": "text/x-python",
   "name": "python",
   "nbconvert_exporter": "python",
   "pygments_lexer": "ipython3",
   "version": "3.11.5"
  }
 },
 "nbformat": 4,
 "nbformat_minor": 5
}
