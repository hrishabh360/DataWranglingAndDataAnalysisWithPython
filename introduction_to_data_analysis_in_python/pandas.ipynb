{
 "cells": [
  {
   "cell_type": "code",
   "execution_count": 1,
   "id": "5e726a72-a29c-43fd-b516-3a9176d5cbfa",
   "metadata": {
    "tags": []
   },
   "outputs": [],
   "source": [
    "from pandas import Series"
   ]
  },
  {
   "cell_type": "code",
   "execution_count": 2,
   "id": "40d895be-9104-4bf2-a5a5-db3925916a10",
   "metadata": {
    "tags": []
   },
   "outputs": [
    {
     "data": {
      "text/plain": [
       "0    14\n",
       "1     7\n",
       "2     3\n",
       "3    -7\n",
       "4     8\n",
       "dtype: int64"
      ]
     },
     "execution_count": 2,
     "metadata": {},
     "output_type": "execute_result"
    }
   ],
   "source": [
    "Series([14, 7, 3, -7, 8])"
   ]
  },
  {
   "cell_type": "code",
   "execution_count": 3,
   "id": "8c792c99-0086-4270-9888-64ebf9be30c3",
   "metadata": {
    "tags": []
   },
   "outputs": [
    {
     "data": {
      "text/plain": [
       "18446744073709551616"
      ]
     },
     "execution_count": 3,
     "metadata": {},
     "output_type": "execute_result"
    }
   ],
   "source": [
    "# largest int64\n",
    "2**64"
   ]
  },
  {
   "cell_type": "code",
   "execution_count": 4,
   "id": "b7c4f687-714b-4be3-a020-278fd9e7c329",
   "metadata": {
    "tags": []
   },
   "outputs": [
    {
     "data": {
      "text/plain": [
       "a    14\n",
       "b     7\n",
       "c     3\n",
       "d    -7\n",
       "e     8\n",
       "dtype: int64"
      ]
     },
     "execution_count": 4,
     "metadata": {},
     "output_type": "execute_result"
    }
   ],
   "source": [
    "Series([14, 7, 3, -7, 8], index= [\"a\", \"b\", \"c\", \"d\", \"e\"])"
   ]
  },
  {
   "cell_type": "code",
   "execution_count": 5,
   "id": "ce11dee0-ca73-47c2-bf26-97a78a91091a",
   "metadata": {
    "tags": []
   },
   "outputs": [
    {
     "data": {
      "text/plain": [
       "5    14\n",
       "6     7\n",
       "7     3\n",
       "8    -7\n",
       "9     8\n",
       "dtype: int64"
      ]
     },
     "execution_count": 5,
     "metadata": {},
     "output_type": "execute_result"
    }
   ],
   "source": [
    "Series([14, 7, 3, -7, 8], index= range(5,10))"
   ]
  },
  {
   "cell_type": "markdown",
   "id": "66fdbeb9-08ae-4c48-8362-1734d2a44bdb",
   "metadata": {},
   "source": [
    "# Program"
   ]
  },
  {
   "cell_type": "code",
   "execution_count": 6,
   "id": "bea7b4fc-a9e9-4efc-94c8-5b60d510d3ca",
   "metadata": {
    "tags": []
   },
   "outputs": [],
   "source": [
    "s = Series([14, 7, 3, -7, 8], index= [\"a\", \"b\", \"c\", \"d\", \"e\"])"
   ]
  },
  {
   "cell_type": "code",
   "execution_count": 7,
   "id": "6734137a-b910-4a02-8b65-5f8a342364c9",
   "metadata": {
    "tags": []
   },
   "outputs": [
    {
     "data": {
      "text/plain": [
       "a    14\n",
       "b     7\n",
       "c     3\n",
       "d    -7\n",
       "e     8\n",
       "dtype: int64"
      ]
     },
     "execution_count": 7,
     "metadata": {},
     "output_type": "execute_result"
    }
   ],
   "source": [
    "s"
   ]
  },
  {
   "cell_type": "code",
   "execution_count": 8,
   "id": "6aa6df86-551c-4239-b44f-29bafc04a106",
   "metadata": {
    "tags": []
   },
   "outputs": [
    {
     "data": {
      "text/plain": [
       "14"
      ]
     },
     "execution_count": 8,
     "metadata": {},
     "output_type": "execute_result"
    }
   ],
   "source": [
    "s[\"a\"]"
   ]
  },
  {
   "cell_type": "code",
   "execution_count": 9,
   "id": "eaeefc45-be89-498a-9359-dbdef0c8f693",
   "metadata": {
    "tags": []
   },
   "outputs": [],
   "source": [
    "s[\"e\"] = -999"
   ]
  },
  {
   "cell_type": "code",
   "execution_count": 10,
   "id": "e9200392-1aee-44f4-ace6-171a156f161d",
   "metadata": {
    "tags": []
   },
   "outputs": [
    {
     "data": {
      "text/plain": [
       "a     14\n",
       "b      7\n",
       "c      3\n",
       "d     -7\n",
       "e   -999\n",
       "dtype: int64"
      ]
     },
     "execution_count": 10,
     "metadata": {},
     "output_type": "execute_result"
    }
   ],
   "source": [
    "s"
   ]
  },
  {
   "cell_type": "markdown",
   "id": "a248ce05-3415-4161-832d-000fd37b1526",
   "metadata": {},
   "source": [
    "# Exercise 1: \n",
    "**Pandas Series with 10 elements where indices are years and the values are numbers**"
   ]
  },
  {
   "cell_type": "code",
   "execution_count": 11,
   "id": "be87bff2-19a0-4210-8256-eeff6e397321",
   "metadata": {
    "tags": []
   },
   "outputs": [],
   "source": [
    "x = Series([123, 32, 434, 213, 1231, 3123, 232, 123, 345, 534], index = [2000, 2001, 2002, 2003, 2004, 2005, 2006, 2007, 2008, 2009])"
   ]
  },
  {
   "cell_type": "code",
   "execution_count": 12,
   "id": "16b584ec-7e35-4a3f-b22e-5cb25a2158ac",
   "metadata": {
    "tags": []
   },
   "outputs": [
    {
     "data": {
      "text/plain": [
       "2000     123\n",
       "2001      32\n",
       "2002     434\n",
       "2003     213\n",
       "2004    1231\n",
       "2005    3123\n",
       "2006     232\n",
       "2007     123\n",
       "2008     345\n",
       "2009     534\n",
       "dtype: int64"
      ]
     },
     "execution_count": 12,
     "metadata": {},
     "output_type": "execute_result"
    }
   ],
   "source": [
    "x"
   ]
  },
  {
   "cell_type": "code",
   "execution_count": 13,
   "id": "b7abae1e-a3b5-4253-836b-a6ff3f79f613",
   "metadata": {
    "tags": []
   },
   "outputs": [
    {
     "name": "stdout",
     "output_type": "stream",
     "text": [
      "Index([2000, 2007], dtype='int64')\n",
      "Index([2000, 2007], dtype='int64')\n",
      "Index([2009], dtype='int64')\n"
     ]
    }
   ],
   "source": [
    "# Method 1: Using Boolean Indexing\n",
    "index = x[x == 123].index\n",
    "print(index)\n",
    "\n",
    "# Method 2: Using Index and Boolean Mask\n",
    "index = x.index[x == 123]\n",
    "print(index)\n",
    "\n",
    "# Method 3: Using Index and get_indexer\n",
    "index = x.index[x.index.get_indexer([123])]\n",
    "print(index)\n"
   ]
  },
  {
   "cell_type": "code",
   "execution_count": 14,
   "id": "7d9e98f6-90e4-46c2-aa8a-9378a9e5aa15",
   "metadata": {
    "tags": []
   },
   "outputs": [],
   "source": [
    "y = Series([123, 32, 434, 213, 1231, 3123, 232, 123, 345, 534], index = [2000, 2001, 2002, 2003, 2004, 2005, 2006, 2007, 2008, 2000])"
   ]
  },
  {
   "cell_type": "code",
   "execution_count": 15,
   "id": "549545b4-f2ec-4934-b9ba-d9e5502256d4",
   "metadata": {
    "tags": []
   },
   "outputs": [
    {
     "data": {
      "text/plain": [
       "2000     123\n",
       "2001      32\n",
       "2002     434\n",
       "2003     213\n",
       "2004    1231\n",
       "2005    3123\n",
       "2006     232\n",
       "2007     123\n",
       "2008     345\n",
       "2000     534\n",
       "dtype: int64"
      ]
     },
     "execution_count": 15,
     "metadata": {},
     "output_type": "execute_result"
    }
   ],
   "source": [
    "y"
   ]
  },
  {
   "cell_type": "code",
   "execution_count": 16,
   "id": "57cb0797-3eb1-49db-bd03-a1ea7e81b0cd",
   "metadata": {
    "tags": []
   },
   "outputs": [
    {
     "data": {
      "text/plain": [
       "2000    123\n",
       "2000    534\n",
       "dtype: int64"
      ]
     },
     "execution_count": 16,
     "metadata": {},
     "output_type": "execute_result"
    }
   ],
   "source": [
    "y[2000]"
   ]
  },
  {
   "cell_type": "markdown",
   "id": "0122a2e9-561a-476f-b4ee-8230637d3765",
   "metadata": {
    "tags": []
   },
   "source": [
    "# having Strings in a Series changes its dtype to object"
   ]
  },
  {
   "cell_type": "code",
   "execution_count": 17,
   "id": "ebd88167-b56d-40cc-9281-71a1db4cf9dc",
   "metadata": {
    "tags": []
   },
   "outputs": [],
   "source": [
    "s = Series([14, 7, 3, -7, \"Hello I am Hrishabh\"], index= [\"a\", \"b\", \"c\", \"d\", \"e\"])"
   ]
  },
  {
   "cell_type": "code",
   "execution_count": 18,
   "id": "c2edac05-f401-4de3-864e-bd87c72861e4",
   "metadata": {
    "tags": []
   },
   "outputs": [
    {
     "data": {
      "text/plain": [
       "a                     14\n",
       "b                      7\n",
       "c                      3\n",
       "d                     -7\n",
       "e    Hello I am Hrishabh\n",
       "dtype: object"
      ]
     },
     "execution_count": 18,
     "metadata": {},
     "output_type": "execute_result"
    }
   ],
   "source": [
    "s"
   ]
  },
  {
   "cell_type": "markdown",
   "id": "4432f013-8709-45e5-9593-5340a6c994bd",
   "metadata": {},
   "source": [
    "# Python List vs Series"
   ]
  },
  {
   "cell_type": "code",
   "execution_count": 19,
   "id": "14850727-e837-49a3-b9ee-59e57a6d98a5",
   "metadata": {
    "tags": []
   },
   "outputs": [],
   "source": [
    "my_list = [3,6,7,5,9]"
   ]
  },
  {
   "cell_type": "code",
   "execution_count": 20,
   "id": "c38c74fe-4434-48e2-8956-1755d45beffe",
   "metadata": {
    "tags": []
   },
   "outputs": [
    {
     "data": {
      "text/plain": [
       "[3, 6, 7, 5, 9, 3, 6, 7, 5, 9]"
      ]
     },
     "execution_count": 20,
     "metadata": {},
     "output_type": "execute_result"
    }
   ],
   "source": [
    "my_list * 2\n",
    "#quite literally multiples list by 2"
   ]
  },
  {
   "cell_type": "code",
   "execution_count": 21,
   "id": "e920968d-b327-457b-8a7f-d49cf6b7f1b4",
   "metadata": {
    "tags": []
   },
   "outputs": [
    {
     "data": {
      "text/plain": [
       "0    3\n",
       "1    6\n",
       "2    7\n",
       "3    5\n",
       "4    9\n",
       "dtype: int64"
      ]
     },
     "execution_count": 21,
     "metadata": {},
     "output_type": "execute_result"
    }
   ],
   "source": [
    "s1 = Series(my_list)\n",
    "s1"
   ]
  },
  {
   "cell_type": "code",
   "execution_count": 22,
   "id": "f632b4c7-94f3-4f2e-b721-152aa48b3f4e",
   "metadata": {
    "tags": []
   },
   "outputs": [
    {
     "data": {
      "text/plain": [
       "0     6\n",
       "1    12\n",
       "2    14\n",
       "3    10\n",
       "4    18\n",
       "dtype: int64"
      ]
     },
     "execution_count": 22,
     "metadata": {},
     "output_type": "execute_result"
    }
   ],
   "source": [
    "s1 * 2"
   ]
  },
  {
   "cell_type": "code",
   "execution_count": 23,
   "id": "f799c4ee-8b36-4778-8373-3e5589a6295a",
   "metadata": {
    "tags": []
   },
   "outputs": [
    {
     "data": {
      "text/plain": [
       "0    False\n",
       "1    False\n",
       "2     True\n",
       "3    False\n",
       "4     True\n",
       "dtype: bool"
      ]
     },
     "execution_count": 23,
     "metadata": {},
     "output_type": "execute_result"
    }
   ],
   "source": [
    "#boolean operarons in Series\n",
    "\n",
    "s1 > 6 "
   ]
  },
  {
   "cell_type": "code",
   "execution_count": 24,
   "id": "71cff6a0-cd32-4c9a-a229-8dd293cf4c1e",
   "metadata": {
    "tags": []
   },
   "outputs": [
    {
     "data": {
      "text/plain": [
       "array([3, 6, 7, 5, 9])"
      ]
     },
     "execution_count": 24,
     "metadata": {},
     "output_type": "execute_result"
    }
   ],
   "source": [
    "s1.values"
   ]
  },
  {
   "cell_type": "code",
   "execution_count": 26,
   "id": "63086494-b423-4667-a689-a00abf124ed3",
   "metadata": {
    "tags": []
   },
   "outputs": [],
   "source": [
    "s = Series([14, 7, 3, -7, 8], index= [\"a\", \"b\", \"c\", \"d\", \"e\"])"
   ]
  },
  {
   "cell_type": "code",
   "execution_count": 27,
   "id": "c3e9a5d2-a933-47cc-97d5-55eb42fe36fa",
   "metadata": {
    "tags": []
   },
   "outputs": [
    {
     "data": {
      "text/plain": [
       "a    14\n",
       "b     7\n",
       "c     3\n",
       "d    -7\n",
       "e     8\n",
       "dtype: int64"
      ]
     },
     "execution_count": 27,
     "metadata": {},
     "output_type": "execute_result"
    }
   ],
   "source": [
    "s"
   ]
  },
  {
   "cell_type": "code",
   "execution_count": 28,
   "id": "bba7785c-61f6-4038-828c-2969d1d062a0",
   "metadata": {
    "tags": []
   },
   "outputs": [
    {
     "data": {
      "text/plain": [
       "a     True\n",
       "b     True\n",
       "c    False\n",
       "d    False\n",
       "e     True\n",
       "dtype: bool"
      ]
     },
     "execution_count": 28,
     "metadata": {},
     "output_type": "execute_result"
    }
   ],
   "source": [
    "s > 4"
   ]
  },
  {
   "cell_type": "code",
   "execution_count": 31,
   "id": "05c4471e-2459-450f-95dd-e05d37974a4f",
   "metadata": {
    "tags": []
   },
   "outputs": [
    {
     "data": {
      "text/plain": [
       "a    14\n",
       "b     7\n",
       "c     3\n",
       "e     8\n",
       "dtype: int64"
      ]
     },
     "execution_count": 31,
     "metadata": {},
     "output_type": "execute_result"
    }
   ],
   "source": [
    "s[(s*2) > 4]"
   ]
  },
  {
   "cell_type": "code",
   "execution_count": 32,
   "id": "b877eac1-2c6f-4bd8-b7ce-6cf092c50dcb",
   "metadata": {
    "tags": []
   },
   "outputs": [],
   "source": [
    "s2 = Series([23,5,34,7,5])\n",
    "s3 = Series([7,6,3,4,5])"
   ]
  },
  {
   "cell_type": "code",
   "execution_count": 33,
   "id": "235d2d0b-ec3b-4b7f-9fd0-a74c4b74e9a8",
   "metadata": {
    "tags": []
   },
   "outputs": [
    {
     "data": {
      "text/plain": [
       "0     True\n",
       "1    False\n",
       "2     True\n",
       "3     True\n",
       "4    False\n",
       "dtype: bool"
      ]
     },
     "execution_count": 33,
     "metadata": {},
     "output_type": "execute_result"
    }
   ],
   "source": [
    "s2 > s3"
   ]
  },
  {
   "cell_type": "code",
   "execution_count": 34,
   "id": "d38cb8fe-511d-4afb-86e2-8fc41911827f",
   "metadata": {
    "tags": []
   },
   "outputs": [
    {
     "data": {
      "text/plain": [
       "0    23\n",
       "2    34\n",
       "3     7\n",
       "dtype: int64"
      ]
     },
     "execution_count": 34,
     "metadata": {},
     "output_type": "execute_result"
    }
   ],
   "source": [
    "s2[s2>s3]"
   ]
  },
  {
   "cell_type": "code",
   "execution_count": 35,
   "id": "0fceebda-fac1-4f6c-af67-b84b8e8ec205",
   "metadata": {
    "tags": []
   },
   "outputs": [
    {
     "data": {
      "text/plain": [
       "0    16\n",
       "1    -1\n",
       "2    31\n",
       "3     3\n",
       "4     0\n",
       "dtype: int64"
      ]
     },
     "execution_count": 35,
     "metadata": {},
     "output_type": "execute_result"
    }
   ],
   "source": [
    "s2 - s3"
   ]
  },
  {
   "cell_type": "code",
   "execution_count": 36,
   "id": "4c22710a-2669-4925-83d9-4baea643f5e4",
   "metadata": {
    "tags": []
   },
   "outputs": [],
   "source": [
    "s2 = Series([23,5,34,7,5])\n",
    "s3 = Series([7,6,3,4])"
   ]
  },
  {
   "cell_type": "code",
   "execution_count": 39,
   "id": "a8c963c4-ef50-48ce-a636-1235a09d89fe",
   "metadata": {
    "tags": []
   },
   "outputs": [
    {
     "data": {
      "text/plain": [
       "0    16.0\n",
       "1    -1.0\n",
       "2    31.0\n",
       "3     3.0\n",
       "4     NaN\n",
       "dtype: float64"
      ]
     },
     "execution_count": 39,
     "metadata": {},
     "output_type": "execute_result"
    }
   ],
   "source": [
    "s2 - s3\n",
    "\n",
    "#NaN not specified in integer so the dtype is changed to float64"
   ]
  },
  {
   "cell_type": "code",
   "execution_count": null,
   "id": "dc319095-0350-479f-9535-5c1e3181ebe1",
   "metadata": {},
   "outputs": [],
   "source": []
  }
 ],
 "metadata": {
  "kernelspec": {
   "display_name": "Python 3 (ipykernel)",
   "language": "python",
   "name": "python3"
  },
  "language_info": {
   "codemirror_mode": {
    "name": "ipython",
    "version": 3
   },
   "file_extension": ".py",
   "mimetype": "text/x-python",
   "name": "python",
   "nbconvert_exporter": "python",
   "pygments_lexer": "ipython3",
   "version": "3.11.5"
  }
 },
 "nbformat": 4,
 "nbformat_minor": 5
}
